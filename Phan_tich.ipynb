{
 "cells": [
  {
   "cell_type": "code",
   "id": "initial_id",
   "metadata": {
    "collapsed": true,
    "ExecuteTime": {
     "end_time": "2025-03-29T09:48:01.384753Z",
     "start_time": "2025-03-29T09:48:01.371714Z"
    }
   },
   "source": [
    "import pandas as pd\n",
    "import matplotlib.pyplot as plt\n"
   ],
   "outputs": [],
   "execution_count": 19
  },
  {
   "metadata": {
    "ExecuteTime": {
     "end_time": "2025-03-29T10:14:56.457937Z",
     "start_time": "2025-03-29T10:14:55.918333Z"
    }
   },
   "cell_type": "code",
   "source": [
    "data = pd.read_csv('diem_thi_thpt_2024.csv',index_col=0)\n",
    "data"
   ],
   "id": "5bb5f38d1d5ea30e",
   "outputs": [
    {
     "data": {
      "text/plain": [
       "          toan  ngu_van  ngoai_ngu  vat_li  hoa_hoc  sinh_hoc  lich_su  \\\n",
       "sbd                                                                      \n",
       "1000001    8.4     6.75        8.0    6.00     5.25       5.0      NaN   \n",
       "1000002    8.6     8.50        7.2     NaN      NaN       NaN     7.25   \n",
       "1000003    8.2     8.75        8.2     NaN      NaN       NaN     7.25   \n",
       "1000004    4.8     8.50        7.4     NaN      NaN       NaN     7.00   \n",
       "1000005    8.6     9.00        7.8     NaN      NaN       NaN     9.00   \n",
       "...        ...      ...        ...     ...      ...       ...      ...   \n",
       "64007282   4.2     6.00        3.0     NaN      NaN       NaN     5.25   \n",
       "64007283   5.2     6.00        3.6     NaN      NaN       NaN     6.25   \n",
       "64007284   7.2     8.00        7.0    6.25     7.00       8.0      NaN   \n",
       "64007285   5.2     5.25        4.4     NaN      NaN       NaN     4.75   \n",
       "64007286   5.8     8.25        2.8     NaN      NaN       NaN     5.00   \n",
       "\n",
       "          dia_li  gdcd ma_ngoai_ngu  \n",
       "sbd                                  \n",
       "1000001      NaN   NaN           N1  \n",
       "1000002     6.00  8.00           N1  \n",
       "1000003     7.25  8.75           N1  \n",
       "1000004     6.00  7.50           N1  \n",
       "1000005     8.75  8.50           N1  \n",
       "...          ...   ...          ...  \n",
       "64007282    6.25  7.50           N1  \n",
       "64007283    5.75  7.75           N1  \n",
       "64007284     NaN   NaN           N1  \n",
       "64007285    6.50  8.75           N1  \n",
       "64007286    7.25  8.25           N1  \n",
       "\n",
       "[1061605 rows x 10 columns]"
      ],
      "text/html": [
       "<div>\n",
       "<style scoped>\n",
       "    .dataframe tbody tr th:only-of-type {\n",
       "        vertical-align: middle;\n",
       "    }\n",
       "\n",
       "    .dataframe tbody tr th {\n",
       "        vertical-align: top;\n",
       "    }\n",
       "\n",
       "    .dataframe thead th {\n",
       "        text-align: right;\n",
       "    }\n",
       "</style>\n",
       "<table border=\"1\" class=\"dataframe\">\n",
       "  <thead>\n",
       "    <tr style=\"text-align: right;\">\n",
       "      <th></th>\n",
       "      <th>toan</th>\n",
       "      <th>ngu_van</th>\n",
       "      <th>ngoai_ngu</th>\n",
       "      <th>vat_li</th>\n",
       "      <th>hoa_hoc</th>\n",
       "      <th>sinh_hoc</th>\n",
       "      <th>lich_su</th>\n",
       "      <th>dia_li</th>\n",
       "      <th>gdcd</th>\n",
       "      <th>ma_ngoai_ngu</th>\n",
       "    </tr>\n",
       "    <tr>\n",
       "      <th>sbd</th>\n",
       "      <th></th>\n",
       "      <th></th>\n",
       "      <th></th>\n",
       "      <th></th>\n",
       "      <th></th>\n",
       "      <th></th>\n",
       "      <th></th>\n",
       "      <th></th>\n",
       "      <th></th>\n",
       "      <th></th>\n",
       "    </tr>\n",
       "  </thead>\n",
       "  <tbody>\n",
       "    <tr>\n",
       "      <th>1000001</th>\n",
       "      <td>8.4</td>\n",
       "      <td>6.75</td>\n",
       "      <td>8.0</td>\n",
       "      <td>6.00</td>\n",
       "      <td>5.25</td>\n",
       "      <td>5.0</td>\n",
       "      <td>NaN</td>\n",
       "      <td>NaN</td>\n",
       "      <td>NaN</td>\n",
       "      <td>N1</td>\n",
       "    </tr>\n",
       "    <tr>\n",
       "      <th>1000002</th>\n",
       "      <td>8.6</td>\n",
       "      <td>8.50</td>\n",
       "      <td>7.2</td>\n",
       "      <td>NaN</td>\n",
       "      <td>NaN</td>\n",
       "      <td>NaN</td>\n",
       "      <td>7.25</td>\n",
       "      <td>6.00</td>\n",
       "      <td>8.00</td>\n",
       "      <td>N1</td>\n",
       "    </tr>\n",
       "    <tr>\n",
       "      <th>1000003</th>\n",
       "      <td>8.2</td>\n",
       "      <td>8.75</td>\n",
       "      <td>8.2</td>\n",
       "      <td>NaN</td>\n",
       "      <td>NaN</td>\n",
       "      <td>NaN</td>\n",
       "      <td>7.25</td>\n",
       "      <td>7.25</td>\n",
       "      <td>8.75</td>\n",
       "      <td>N1</td>\n",
       "    </tr>\n",
       "    <tr>\n",
       "      <th>1000004</th>\n",
       "      <td>4.8</td>\n",
       "      <td>8.50</td>\n",
       "      <td>7.4</td>\n",
       "      <td>NaN</td>\n",
       "      <td>NaN</td>\n",
       "      <td>NaN</td>\n",
       "      <td>7.00</td>\n",
       "      <td>6.00</td>\n",
       "      <td>7.50</td>\n",
       "      <td>N1</td>\n",
       "    </tr>\n",
       "    <tr>\n",
       "      <th>1000005</th>\n",
       "      <td>8.6</td>\n",
       "      <td>9.00</td>\n",
       "      <td>7.8</td>\n",
       "      <td>NaN</td>\n",
       "      <td>NaN</td>\n",
       "      <td>NaN</td>\n",
       "      <td>9.00</td>\n",
       "      <td>8.75</td>\n",
       "      <td>8.50</td>\n",
       "      <td>N1</td>\n",
       "    </tr>\n",
       "    <tr>\n",
       "      <th>...</th>\n",
       "      <td>...</td>\n",
       "      <td>...</td>\n",
       "      <td>...</td>\n",
       "      <td>...</td>\n",
       "      <td>...</td>\n",
       "      <td>...</td>\n",
       "      <td>...</td>\n",
       "      <td>...</td>\n",
       "      <td>...</td>\n",
       "      <td>...</td>\n",
       "    </tr>\n",
       "    <tr>\n",
       "      <th>64007282</th>\n",
       "      <td>4.2</td>\n",
       "      <td>6.00</td>\n",
       "      <td>3.0</td>\n",
       "      <td>NaN</td>\n",
       "      <td>NaN</td>\n",
       "      <td>NaN</td>\n",
       "      <td>5.25</td>\n",
       "      <td>6.25</td>\n",
       "      <td>7.50</td>\n",
       "      <td>N1</td>\n",
       "    </tr>\n",
       "    <tr>\n",
       "      <th>64007283</th>\n",
       "      <td>5.2</td>\n",
       "      <td>6.00</td>\n",
       "      <td>3.6</td>\n",
       "      <td>NaN</td>\n",
       "      <td>NaN</td>\n",
       "      <td>NaN</td>\n",
       "      <td>6.25</td>\n",
       "      <td>5.75</td>\n",
       "      <td>7.75</td>\n",
       "      <td>N1</td>\n",
       "    </tr>\n",
       "    <tr>\n",
       "      <th>64007284</th>\n",
       "      <td>7.2</td>\n",
       "      <td>8.00</td>\n",
       "      <td>7.0</td>\n",
       "      <td>6.25</td>\n",
       "      <td>7.00</td>\n",
       "      <td>8.0</td>\n",
       "      <td>NaN</td>\n",
       "      <td>NaN</td>\n",
       "      <td>NaN</td>\n",
       "      <td>N1</td>\n",
       "    </tr>\n",
       "    <tr>\n",
       "      <th>64007285</th>\n",
       "      <td>5.2</td>\n",
       "      <td>5.25</td>\n",
       "      <td>4.4</td>\n",
       "      <td>NaN</td>\n",
       "      <td>NaN</td>\n",
       "      <td>NaN</td>\n",
       "      <td>4.75</td>\n",
       "      <td>6.50</td>\n",
       "      <td>8.75</td>\n",
       "      <td>N1</td>\n",
       "    </tr>\n",
       "    <tr>\n",
       "      <th>64007286</th>\n",
       "      <td>5.8</td>\n",
       "      <td>8.25</td>\n",
       "      <td>2.8</td>\n",
       "      <td>NaN</td>\n",
       "      <td>NaN</td>\n",
       "      <td>NaN</td>\n",
       "      <td>5.00</td>\n",
       "      <td>7.25</td>\n",
       "      <td>8.25</td>\n",
       "      <td>N1</td>\n",
       "    </tr>\n",
       "  </tbody>\n",
       "</table>\n",
       "<p>1061605 rows × 10 columns</p>\n",
       "</div>"
      ]
     },
     "execution_count": 45,
     "metadata": {},
     "output_type": "execute_result"
    }
   ],
   "execution_count": 45
  },
  {
   "metadata": {
    "ExecuteTime": {
     "end_time": "2025-03-29T09:40:36.536926Z",
     "start_time": "2025-03-29T09:40:36.519831Z"
    }
   },
   "cell_type": "code",
   "source": [
    "mean_values = data['toan'].mean()\n",
    "print(\"Diem trung binh mon toan: \",mean_values)\n"
   ],
   "id": "49dddfc7f75985bf",
   "outputs": [
    {
     "name": "stdout",
     "output_type": "stream",
     "text": [
      "Diem trung binh mon toan:  6.447309281732343\n"
     ]
    }
   ],
   "execution_count": 14
  },
  {
   "metadata": {
    "ExecuteTime": {
     "end_time": "2025-03-29T10:27:35.092402Z",
     "start_time": "2025-03-29T10:27:35.077776Z"
    }
   },
   "cell_type": "code",
   "source": "data.loc[1020653]",
   "id": "5eecad73ab3d53d3",
   "outputs": [
    {
     "data": {
      "text/plain": [
       "toan             8.6\n",
       "ngu_van         6.75\n",
       "ngoai_ngu        7.0\n",
       "vat_li           9.0\n",
       "hoa_hoc         9.25\n",
       "sinh_hoc         6.5\n",
       "lich_su          NaN\n",
       "dia_li           NaN\n",
       "gdcd             NaN\n",
       "ma_ngoai_ngu      N1\n",
       "Name: 1020653, dtype: object"
      ]
     },
     "execution_count": 52,
     "metadata": {},
     "output_type": "execute_result"
    }
   ],
   "execution_count": 52
  },
  {
   "metadata": {
    "ExecuteTime": {
     "end_time": "2025-03-29T13:31:03.031509Z",
     "start_time": "2025-03-29T13:31:03.025440Z"
    }
   },
   "cell_type": "code",
   "source": [
    "def phan_loai_khoi(row):\n",
    "    if (row.loc['ma_ngoai_ngu'] != 'N1'):\n",
    "        return 'Khoi khac'\n",
    "    row = pd.to_numeric(row, errors='coerce').fillna(0)\n",
    "\n",
    "    top_3_mon = set(row.nlargest(3).index.tolist())\n",
    "\n",
    "\n",
    "    if top_3_mon == {'toan','vat_li','hoa_hoc'}: return 'A'\n",
    "    elif top_3_mon == {'toan','vat_li','ngoai_ngu'}: return 'A1'\n",
    "    elif top_3_mon == {'ngu_van','lich_su','dia_li'}: return 'C'\n",
    "    elif top_3_mon == {'toan','ngu_van','ngoai_ngu'}: return 'D'\n",
    "    elif top_3_mon == {'toan','hoa_hoc','sinh_hoc'}: return 'B'\n",
    "    else: return 'Khoi khac'\n"
   ],
   "id": "9981e1f306791ab0",
   "outputs": [],
   "execution_count": 114
  },
  {
   "metadata": {
    "ExecuteTime": {
     "end_time": "2025-03-29T11:32:11.846917Z",
     "start_time": "2025-03-29T11:32:11.836871Z"
    }
   },
   "cell_type": "code",
   "source": [
    "def dem_so_khoi(data):\n",
    "    data['khoi'] = data.drop('gdcd',axis=1).apply(phan_loai_khoi, axis=1)\n",
    "    khoi_counts = data['khoi'].value_counts()\n",
    "    return khoi_counts"
   ],
   "id": "17a4f13ba1076d4d",
   "outputs": [],
   "execution_count": 79
  },
  {
   "metadata": {
    "ExecuteTime": {
     "end_time": "2025-03-29T13:30:40.206203Z",
     "start_time": "2025-03-29T13:25:21.396809Z"
    }
   },
   "cell_type": "code",
   "source": [
    "phan_loai_khoi(data.loc[1020653])\n",
    "dem_so_khoi(data)"
   ],
   "id": "a09a49e5859212f",
   "outputs": [
    {
     "ename": "KeyboardInterrupt",
     "evalue": "",
     "output_type": "error",
     "traceback": [
      "\u001B[31m---------------------------------------------------------------------------\u001B[39m",
      "\u001B[31mKeyboardInterrupt\u001B[39m                         Traceback (most recent call last)",
      "\u001B[36mCell\u001B[39m\u001B[36m \u001B[39m\u001B[32mIn[113]\u001B[39m\u001B[32m, line 2\u001B[39m\n\u001B[32m      1\u001B[39m phan_loai_khoi(data.loc[\u001B[32m1020653\u001B[39m])\n\u001B[32m----> \u001B[39m\u001B[32m2\u001B[39m \u001B[43mdem_so_khoi\u001B[49m\u001B[43m(\u001B[49m\u001B[43mdata\u001B[49m\u001B[43m)\u001B[49m\n",
      "\u001B[36mCell\u001B[39m\u001B[36m \u001B[39m\u001B[32mIn[79]\u001B[39m\u001B[32m, line 2\u001B[39m, in \u001B[36mdem_so_khoi\u001B[39m\u001B[34m(data)\u001B[39m\n\u001B[32m      1\u001B[39m \u001B[38;5;28;01mdef\u001B[39;00m\u001B[38;5;250m \u001B[39m\u001B[34mdem_so_khoi\u001B[39m(data):\n\u001B[32m----> \u001B[39m\u001B[32m2\u001B[39m     data[\u001B[33m'\u001B[39m\u001B[33mkhoi\u001B[39m\u001B[33m'\u001B[39m] = \u001B[43mdata\u001B[49m\u001B[43m.\u001B[49m\u001B[43mdrop\u001B[49m\u001B[43m(\u001B[49m\u001B[33;43m'\u001B[39;49m\u001B[33;43mgdcd\u001B[39;49m\u001B[33;43m'\u001B[39;49m\u001B[43m,\u001B[49m\u001B[43maxis\u001B[49m\u001B[43m=\u001B[49m\u001B[32;43m1\u001B[39;49m\u001B[43m)\u001B[49m\u001B[43m.\u001B[49m\u001B[43mapply\u001B[49m\u001B[43m(\u001B[49m\u001B[43mphan_loai_khoi\u001B[49m\u001B[43m,\u001B[49m\u001B[43m \u001B[49m\u001B[43maxis\u001B[49m\u001B[43m=\u001B[49m\u001B[32;43m1\u001B[39;49m\u001B[43m)\u001B[49m\n\u001B[32m      3\u001B[39m     khoi_counts = data[\u001B[33m'\u001B[39m\u001B[33mkhoi\u001B[39m\u001B[33m'\u001B[39m].value_counts()\n\u001B[32m      4\u001B[39m     \u001B[38;5;28;01mreturn\u001B[39;00m khoi_counts\n",
      "\u001B[36mFile \u001B[39m\u001B[32m~\\AppData\\Local\\Programs\\Python\\Python312\\Lib\\site-packages\\pandas\\core\\frame.py:10374\u001B[39m, in \u001B[36mDataFrame.apply\u001B[39m\u001B[34m(self, func, axis, raw, result_type, args, by_row, engine, engine_kwargs, **kwargs)\u001B[39m\n\u001B[32m  10360\u001B[39m \u001B[38;5;28;01mfrom\u001B[39;00m\u001B[38;5;250m \u001B[39m\u001B[34;01mpandas\u001B[39;00m\u001B[34;01m.\u001B[39;00m\u001B[34;01mcore\u001B[39;00m\u001B[34;01m.\u001B[39;00m\u001B[34;01mapply\u001B[39;00m\u001B[38;5;250m \u001B[39m\u001B[38;5;28;01mimport\u001B[39;00m frame_apply\n\u001B[32m  10362\u001B[39m op = frame_apply(\n\u001B[32m  10363\u001B[39m     \u001B[38;5;28mself\u001B[39m,\n\u001B[32m  10364\u001B[39m     func=func,\n\u001B[32m   (...)\u001B[39m\u001B[32m  10372\u001B[39m     kwargs=kwargs,\n\u001B[32m  10373\u001B[39m )\n\u001B[32m> \u001B[39m\u001B[32m10374\u001B[39m \u001B[38;5;28;01mreturn\u001B[39;00m \u001B[43mop\u001B[49m\u001B[43m.\u001B[49m\u001B[43mapply\u001B[49m\u001B[43m(\u001B[49m\u001B[43m)\u001B[49m.__finalize__(\u001B[38;5;28mself\u001B[39m, method=\u001B[33m\"\u001B[39m\u001B[33mapply\u001B[39m\u001B[33m\"\u001B[39m)\n",
      "\u001B[36mFile \u001B[39m\u001B[32m~\\AppData\\Local\\Programs\\Python\\Python312\\Lib\\site-packages\\pandas\\core\\apply.py:916\u001B[39m, in \u001B[36mFrameApply.apply\u001B[39m\u001B[34m(self)\u001B[39m\n\u001B[32m    913\u001B[39m \u001B[38;5;28;01melif\u001B[39;00m \u001B[38;5;28mself\u001B[39m.raw:\n\u001B[32m    914\u001B[39m     \u001B[38;5;28;01mreturn\u001B[39;00m \u001B[38;5;28mself\u001B[39m.apply_raw(engine=\u001B[38;5;28mself\u001B[39m.engine, engine_kwargs=\u001B[38;5;28mself\u001B[39m.engine_kwargs)\n\u001B[32m--> \u001B[39m\u001B[32m916\u001B[39m \u001B[38;5;28;01mreturn\u001B[39;00m \u001B[38;5;28;43mself\u001B[39;49m\u001B[43m.\u001B[49m\u001B[43mapply_standard\u001B[49m\u001B[43m(\u001B[49m\u001B[43m)\u001B[49m\n",
      "\u001B[36mFile \u001B[39m\u001B[32m~\\AppData\\Local\\Programs\\Python\\Python312\\Lib\\site-packages\\pandas\\core\\apply.py:1063\u001B[39m, in \u001B[36mFrameApply.apply_standard\u001B[39m\u001B[34m(self)\u001B[39m\n\u001B[32m   1061\u001B[39m \u001B[38;5;28;01mdef\u001B[39;00m\u001B[38;5;250m \u001B[39m\u001B[34mapply_standard\u001B[39m(\u001B[38;5;28mself\u001B[39m):\n\u001B[32m   1062\u001B[39m     \u001B[38;5;28;01mif\u001B[39;00m \u001B[38;5;28mself\u001B[39m.engine == \u001B[33m\"\u001B[39m\u001B[33mpython\u001B[39m\u001B[33m\"\u001B[39m:\n\u001B[32m-> \u001B[39m\u001B[32m1063\u001B[39m         results, res_index = \u001B[38;5;28;43mself\u001B[39;49m\u001B[43m.\u001B[49m\u001B[43mapply_series_generator\u001B[49m\u001B[43m(\u001B[49m\u001B[43m)\u001B[49m\n\u001B[32m   1064\u001B[39m     \u001B[38;5;28;01melse\u001B[39;00m:\n\u001B[32m   1065\u001B[39m         results, res_index = \u001B[38;5;28mself\u001B[39m.apply_series_numba()\n",
      "\u001B[36mFile \u001B[39m\u001B[32m~\\AppData\\Local\\Programs\\Python\\Python312\\Lib\\site-packages\\pandas\\core\\apply.py:1081\u001B[39m, in \u001B[36mFrameApply.apply_series_generator\u001B[39m\u001B[34m(self)\u001B[39m\n\u001B[32m   1078\u001B[39m \u001B[38;5;28;01mwith\u001B[39;00m option_context(\u001B[33m\"\u001B[39m\u001B[33mmode.chained_assignment\u001B[39m\u001B[33m\"\u001B[39m, \u001B[38;5;28;01mNone\u001B[39;00m):\n\u001B[32m   1079\u001B[39m     \u001B[38;5;28;01mfor\u001B[39;00m i, v \u001B[38;5;129;01min\u001B[39;00m \u001B[38;5;28menumerate\u001B[39m(series_gen):\n\u001B[32m   1080\u001B[39m         \u001B[38;5;66;03m# ignore SettingWithCopy here in case the user mutates\u001B[39;00m\n\u001B[32m-> \u001B[39m\u001B[32m1081\u001B[39m         results[i] = \u001B[38;5;28;43mself\u001B[39;49m\u001B[43m.\u001B[49m\u001B[43mfunc\u001B[49m\u001B[43m(\u001B[49m\u001B[43mv\u001B[49m\u001B[43m,\u001B[49m\u001B[43m \u001B[49m\u001B[43m*\u001B[49m\u001B[38;5;28;43mself\u001B[39;49m\u001B[43m.\u001B[49m\u001B[43margs\u001B[49m\u001B[43m,\u001B[49m\u001B[43m \u001B[49m\u001B[43m*\u001B[49m\u001B[43m*\u001B[49m\u001B[38;5;28;43mself\u001B[39;49m\u001B[43m.\u001B[49m\u001B[43mkwargs\u001B[49m\u001B[43m)\u001B[49m\n\u001B[32m   1082\u001B[39m         \u001B[38;5;28;01mif\u001B[39;00m \u001B[38;5;28misinstance\u001B[39m(results[i], ABCSeries):\n\u001B[32m   1083\u001B[39m             \u001B[38;5;66;03m# If we have a view on v, we need to make a copy because\u001B[39;00m\n\u001B[32m   1084\u001B[39m             \u001B[38;5;66;03m#  series_generator will swap out the underlying data\u001B[39;00m\n\u001B[32m   1085\u001B[39m             results[i] = results[i].copy(deep=\u001B[38;5;28;01mFalse\u001B[39;00m)\n",
      "\u001B[36mCell\u001B[39m\u001B[36m \u001B[39m\u001B[32mIn[75]\u001B[39m\u001B[32m, line 5\u001B[39m, in \u001B[36mphan_loai_khoi\u001B[39m\u001B[34m(row)\u001B[39m\n\u001B[32m      3\u001B[39m     \u001B[38;5;28;01mreturn\u001B[39;00m \u001B[33m'\u001B[39m\u001B[33mKhoi khac\u001B[39m\u001B[33m'\u001B[39m\n\u001B[32m      4\u001B[39m row = pd.to_numeric(row, errors=\u001B[33m'\u001B[39m\u001B[33mcoerce\u001B[39m\u001B[33m'\u001B[39m).fillna(\u001B[32m0\u001B[39m)\n\u001B[32m----> \u001B[39m\u001B[32m5\u001B[39m top_3_mon = \u001B[38;5;28mset\u001B[39m(\u001B[43mrow\u001B[49m\u001B[43m.\u001B[49m\u001B[43mnlargest\u001B[49m\u001B[43m(\u001B[49m\u001B[32;43m3\u001B[39;49m\u001B[43m)\u001B[49m.index.tolist())\n\u001B[32m      7\u001B[39m \u001B[38;5;28;01mif\u001B[39;00m top_3_mon == {\u001B[33m'\u001B[39m\u001B[33mtoan\u001B[39m\u001B[33m'\u001B[39m,\u001B[33m'\u001B[39m\u001B[33mvat_li\u001B[39m\u001B[33m'\u001B[39m,\u001B[33m'\u001B[39m\u001B[33mhoa_hoc\u001B[39m\u001B[33m'\u001B[39m}: \u001B[38;5;28;01mreturn\u001B[39;00m \u001B[33m'\u001B[39m\u001B[33mA\u001B[39m\u001B[33m'\u001B[39m\n\u001B[32m      8\u001B[39m \u001B[38;5;28;01melif\u001B[39;00m top_3_mon == {\u001B[33m'\u001B[39m\u001B[33mtoan\u001B[39m\u001B[33m'\u001B[39m,\u001B[33m'\u001B[39m\u001B[33mvat_li\u001B[39m\u001B[33m'\u001B[39m,\u001B[33m'\u001B[39m\u001B[33mngoai_ngu\u001B[39m\u001B[33m'\u001B[39m}: \u001B[38;5;28;01mreturn\u001B[39;00m \u001B[33m'\u001B[39m\u001B[33mA1\u001B[39m\u001B[33m'\u001B[39m\n",
      "\u001B[36mFile \u001B[39m\u001B[32m~\\AppData\\Local\\Programs\\Python\\Python312\\Lib\\site-packages\\pandas\\core\\series.py:4252\u001B[39m, in \u001B[36mSeries.nlargest\u001B[39m\u001B[34m(self, n, keep)\u001B[39m\n\u001B[32m   4154\u001B[39m \u001B[38;5;28;01mdef\u001B[39;00m\u001B[38;5;250m \u001B[39m\u001B[34mnlargest\u001B[39m(\n\u001B[32m   4155\u001B[39m     \u001B[38;5;28mself\u001B[39m, n: \u001B[38;5;28mint\u001B[39m = \u001B[32m5\u001B[39m, keep: Literal[\u001B[33m\"\u001B[39m\u001B[33mfirst\u001B[39m\u001B[33m\"\u001B[39m, \u001B[33m\"\u001B[39m\u001B[33mlast\u001B[39m\u001B[33m\"\u001B[39m, \u001B[33m\"\u001B[39m\u001B[33mall\u001B[39m\u001B[33m\"\u001B[39m] = \u001B[33m\"\u001B[39m\u001B[33mfirst\u001B[39m\u001B[33m\"\u001B[39m\n\u001B[32m   4156\u001B[39m ) -> Series:\n\u001B[32m   4157\u001B[39m \u001B[38;5;250m    \u001B[39m\u001B[33;03m\"\"\"\u001B[39;00m\n\u001B[32m   4158\u001B[39m \u001B[33;03m    Return the largest `n` elements.\u001B[39;00m\n\u001B[32m   4159\u001B[39m \n\u001B[32m   (...)\u001B[39m\u001B[32m   4250\u001B[39m \u001B[33;03m    dtype: int64\u001B[39;00m\n\u001B[32m   4251\u001B[39m \u001B[33;03m    \"\"\"\u001B[39;00m\n\u001B[32m-> \u001B[39m\u001B[32m4252\u001B[39m     \u001B[38;5;28;01mreturn\u001B[39;00m \u001B[43mselectn\u001B[49m\u001B[43m.\u001B[49m\u001B[43mSelectNSeries\u001B[49m\u001B[43m(\u001B[49m\u001B[38;5;28;43mself\u001B[39;49m\u001B[43m,\u001B[49m\u001B[43m \u001B[49m\u001B[43mn\u001B[49m\u001B[43m=\u001B[49m\u001B[43mn\u001B[49m\u001B[43m,\u001B[49m\u001B[43m \u001B[49m\u001B[43mkeep\u001B[49m\u001B[43m=\u001B[49m\u001B[43mkeep\u001B[49m\u001B[43m)\u001B[49m\u001B[43m.\u001B[49m\u001B[43mnlargest\u001B[49m\u001B[43m(\u001B[49m\u001B[43m)\u001B[49m\n",
      "\u001B[36mFile \u001B[39m\u001B[32m~\\AppData\\Local\\Programs\\Python\\Python312\\Lib\\site-packages\\pandas\\core\\methods\\selectn.py:57\u001B[39m, in \u001B[36mSelectN.nlargest\u001B[39m\u001B[34m(self)\u001B[39m\n\u001B[32m     55\u001B[39m \u001B[38;5;129m@final\u001B[39m\n\u001B[32m     56\u001B[39m \u001B[38;5;28;01mdef\u001B[39;00m\u001B[38;5;250m \u001B[39m\u001B[34mnlargest\u001B[39m(\u001B[38;5;28mself\u001B[39m):\n\u001B[32m---> \u001B[39m\u001B[32m57\u001B[39m     \u001B[38;5;28;01mreturn\u001B[39;00m \u001B[38;5;28;43mself\u001B[39;49m\u001B[43m.\u001B[49m\u001B[43mcompute\u001B[49m\u001B[43m(\u001B[49m\u001B[33;43m\"\u001B[39;49m\u001B[33;43mnlargest\u001B[39;49m\u001B[33;43m\"\u001B[39;49m\u001B[43m)\u001B[49m\n",
      "\u001B[36mFile \u001B[39m\u001B[32m~\\AppData\\Local\\Programs\\Python\\Python312\\Lib\\site-packages\\pandas\\core\\methods\\selectn.py:144\u001B[39m, in \u001B[36mSelectNSeries.compute\u001B[39m\u001B[34m(self, method)\u001B[39m\n\u001B[32m    140\u001B[39m \u001B[38;5;66;03m# arr passed into kth_smallest must be contiguous. We copy\u001B[39;00m\n\u001B[32m    141\u001B[39m \u001B[38;5;66;03m# here because kth_smallest will modify its input\u001B[39;00m\n\u001B[32m    142\u001B[39m \u001B[38;5;66;03m# avoid OOB access with kth_smallest_c when n <= 0\u001B[39;00m\n\u001B[32m    143\u001B[39m \u001B[38;5;28;01mif\u001B[39;00m \u001B[38;5;28mlen\u001B[39m(arr) > \u001B[32m0\u001B[39m:\n\u001B[32m--> \u001B[39m\u001B[32m144\u001B[39m     kth_val = \u001B[43mlibalgos\u001B[49m\u001B[43m.\u001B[49m\u001B[43mkth_smallest\u001B[49m\u001B[43m(\u001B[49m\u001B[43marr\u001B[49m\u001B[43m.\u001B[49m\u001B[43mcopy\u001B[49m\u001B[43m(\u001B[49m\u001B[43morder\u001B[49m\u001B[43m=\u001B[49m\u001B[33;43m\"\u001B[39;49m\u001B[33;43mC\u001B[39;49m\u001B[33;43m\"\u001B[39;49m\u001B[43m)\u001B[49m\u001B[43m,\u001B[49m\u001B[43m \u001B[49m\u001B[43mn\u001B[49m\u001B[43m \u001B[49m\u001B[43m-\u001B[49m\u001B[43m \u001B[49m\u001B[32;43m1\u001B[39;49m\u001B[43m)\u001B[49m\n\u001B[32m    145\u001B[39m \u001B[38;5;28;01melse\u001B[39;00m:\n\u001B[32m    146\u001B[39m     kth_val = np.nan\n",
      "\u001B[31mKeyboardInterrupt\u001B[39m: "
     ]
    }
   ],
   "execution_count": 113
  },
  {
   "metadata": {
    "ExecuteTime": {
     "end_time": "2025-03-29T13:16:46.202721Z",
     "start_time": "2025-03-29T13:16:46.198453Z"
    }
   },
   "cell_type": "code",
   "source": [
    "def so_nguoi_liet(data):\n",
    "    count = 0\n",
    "    for i in range(len(data)):\n",
    "        row = pd.to_numeric(data.iloc[i],errors='coerce').fillna(11)\n",
    "        if row.min() <= 1: count = count + 1\n",
    "    return count\n"
   ],
   "id": "e5ad06227fdb6b60",
   "outputs": [],
   "execution_count": 111
  },
  {
   "metadata": {
    "ExecuteTime": {
     "end_time": "2025-03-29T13:19:53.844995Z",
     "start_time": "2025-03-29T13:16:47.674807Z"
    }
   },
   "cell_type": "code",
   "source": "so_nguoi_liet(data)",
   "id": "b3b6824ed4ac787f",
   "outputs": [
    {
     "data": {
      "text/plain": [
       "462"
      ]
     },
     "execution_count": 112,
     "metadata": {},
     "output_type": "execute_result"
    }
   ],
   "execution_count": 112
  },
  {
   "metadata": {},
   "cell_type": "code",
   "outputs": [],
   "execution_count": null,
   "source": "",
   "id": "5bf3d6316ea25321"
  }
 ],
 "metadata": {
  "kernelspec": {
   "display_name": "Python 3",
   "language": "python",
   "name": "python3"
  },
  "language_info": {
   "codemirror_mode": {
    "name": "ipython",
    "version": 2
   },
   "file_extension": ".py",
   "mimetype": "text/x-python",
   "name": "python",
   "nbconvert_exporter": "python",
   "pygments_lexer": "ipython2",
   "version": "2.7.6"
  }
 },
 "nbformat": 4,
 "nbformat_minor": 5
}

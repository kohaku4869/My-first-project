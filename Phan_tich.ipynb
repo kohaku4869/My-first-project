{
 "cells": [
  {
   "cell_type": "code",
   "id": "initial_id",
   "metadata": {
    "collapsed": true,
    "ExecuteTime": {
     "end_time": "2025-04-01T17:21:19.496476Z",
     "start_time": "2025-04-01T17:21:19.491651Z"
    }
   },
   "source": [
    "import pandas as pd\n",
    "import matplotlib.pyplot as plt\n",
    "pd.set_option('display.precision', 2)"
   ],
   "outputs": [],
   "execution_count": 11
  },
  {
   "metadata": {
    "ExecuteTime": {
     "end_time": "2025-04-01T17:21:20.558703Z",
     "start_time": "2025-04-01T17:21:20.037116Z"
    }
   },
   "cell_type": "code",
   "source": [
    "data = pd.read_csv('diem_thi_thpt_2024.csv',index_col=0)\n",
    "data"
   ],
   "id": "5bb5f38d1d5ea30e",
   "outputs": [
    {
     "data": {
      "text/plain": [
       "          toan  ngu_van  ngoai_ngu  vat_li  hoa_hoc  sinh_hoc  lich_su  \\\n",
       "sbd                                                                      \n",
       "1000001    8.4     6.75        8.0    6.00     5.25       5.0      NaN   \n",
       "1000002    8.6     8.50        7.2     NaN      NaN       NaN     7.25   \n",
       "1000003    8.2     8.75        8.2     NaN      NaN       NaN     7.25   \n",
       "1000004    4.8     8.50        7.4     NaN      NaN       NaN     7.00   \n",
       "1000005    8.6     9.00        7.8     NaN      NaN       NaN     9.00   \n",
       "...        ...      ...        ...     ...      ...       ...      ...   \n",
       "64007282   4.2     6.00        3.0     NaN      NaN       NaN     5.25   \n",
       "64007283   5.2     6.00        3.6     NaN      NaN       NaN     6.25   \n",
       "64007284   7.2     8.00        7.0    6.25     7.00       8.0      NaN   \n",
       "64007285   5.2     5.25        4.4     NaN      NaN       NaN     4.75   \n",
       "64007286   5.8     8.25        2.8     NaN      NaN       NaN     5.00   \n",
       "\n",
       "          dia_li  gdcd ma_ngoai_ngu  \n",
       "sbd                                  \n",
       "1000001      NaN   NaN           N1  \n",
       "1000002     6.00  8.00           N1  \n",
       "1000003     7.25  8.75           N1  \n",
       "1000004     6.00  7.50           N1  \n",
       "1000005     8.75  8.50           N1  \n",
       "...          ...   ...          ...  \n",
       "64007282    6.25  7.50           N1  \n",
       "64007283    5.75  7.75           N1  \n",
       "64007284     NaN   NaN           N1  \n",
       "64007285    6.50  8.75           N1  \n",
       "64007286    7.25  8.25           N1  \n",
       "\n",
       "[1061605 rows x 10 columns]"
      ],
      "text/html": [
       "<div>\n",
       "<style scoped>\n",
       "    .dataframe tbody tr th:only-of-type {\n",
       "        vertical-align: middle;\n",
       "    }\n",
       "\n",
       "    .dataframe tbody tr th {\n",
       "        vertical-align: top;\n",
       "    }\n",
       "\n",
       "    .dataframe thead th {\n",
       "        text-align: right;\n",
       "    }\n",
       "</style>\n",
       "<table border=\"1\" class=\"dataframe\">\n",
       "  <thead>\n",
       "    <tr style=\"text-align: right;\">\n",
       "      <th></th>\n",
       "      <th>toan</th>\n",
       "      <th>ngu_van</th>\n",
       "      <th>ngoai_ngu</th>\n",
       "      <th>vat_li</th>\n",
       "      <th>hoa_hoc</th>\n",
       "      <th>sinh_hoc</th>\n",
       "      <th>lich_su</th>\n",
       "      <th>dia_li</th>\n",
       "      <th>gdcd</th>\n",
       "      <th>ma_ngoai_ngu</th>\n",
       "    </tr>\n",
       "    <tr>\n",
       "      <th>sbd</th>\n",
       "      <th></th>\n",
       "      <th></th>\n",
       "      <th></th>\n",
       "      <th></th>\n",
       "      <th></th>\n",
       "      <th></th>\n",
       "      <th></th>\n",
       "      <th></th>\n",
       "      <th></th>\n",
       "      <th></th>\n",
       "    </tr>\n",
       "  </thead>\n",
       "  <tbody>\n",
       "    <tr>\n",
       "      <th>1000001</th>\n",
       "      <td>8.4</td>\n",
       "      <td>6.75</td>\n",
       "      <td>8.0</td>\n",
       "      <td>6.00</td>\n",
       "      <td>5.25</td>\n",
       "      <td>5.0</td>\n",
       "      <td>NaN</td>\n",
       "      <td>NaN</td>\n",
       "      <td>NaN</td>\n",
       "      <td>N1</td>\n",
       "    </tr>\n",
       "    <tr>\n",
       "      <th>1000002</th>\n",
       "      <td>8.6</td>\n",
       "      <td>8.50</td>\n",
       "      <td>7.2</td>\n",
       "      <td>NaN</td>\n",
       "      <td>NaN</td>\n",
       "      <td>NaN</td>\n",
       "      <td>7.25</td>\n",
       "      <td>6.00</td>\n",
       "      <td>8.00</td>\n",
       "      <td>N1</td>\n",
       "    </tr>\n",
       "    <tr>\n",
       "      <th>1000003</th>\n",
       "      <td>8.2</td>\n",
       "      <td>8.75</td>\n",
       "      <td>8.2</td>\n",
       "      <td>NaN</td>\n",
       "      <td>NaN</td>\n",
       "      <td>NaN</td>\n",
       "      <td>7.25</td>\n",
       "      <td>7.25</td>\n",
       "      <td>8.75</td>\n",
       "      <td>N1</td>\n",
       "    </tr>\n",
       "    <tr>\n",
       "      <th>1000004</th>\n",
       "      <td>4.8</td>\n",
       "      <td>8.50</td>\n",
       "      <td>7.4</td>\n",
       "      <td>NaN</td>\n",
       "      <td>NaN</td>\n",
       "      <td>NaN</td>\n",
       "      <td>7.00</td>\n",
       "      <td>6.00</td>\n",
       "      <td>7.50</td>\n",
       "      <td>N1</td>\n",
       "    </tr>\n",
       "    <tr>\n",
       "      <th>1000005</th>\n",
       "      <td>8.6</td>\n",
       "      <td>9.00</td>\n",
       "      <td>7.8</td>\n",
       "      <td>NaN</td>\n",
       "      <td>NaN</td>\n",
       "      <td>NaN</td>\n",
       "      <td>9.00</td>\n",
       "      <td>8.75</td>\n",
       "      <td>8.50</td>\n",
       "      <td>N1</td>\n",
       "    </tr>\n",
       "    <tr>\n",
       "      <th>...</th>\n",
       "      <td>...</td>\n",
       "      <td>...</td>\n",
       "      <td>...</td>\n",
       "      <td>...</td>\n",
       "      <td>...</td>\n",
       "      <td>...</td>\n",
       "      <td>...</td>\n",
       "      <td>...</td>\n",
       "      <td>...</td>\n",
       "      <td>...</td>\n",
       "    </tr>\n",
       "    <tr>\n",
       "      <th>64007282</th>\n",
       "      <td>4.2</td>\n",
       "      <td>6.00</td>\n",
       "      <td>3.0</td>\n",
       "      <td>NaN</td>\n",
       "      <td>NaN</td>\n",
       "      <td>NaN</td>\n",
       "      <td>5.25</td>\n",
       "      <td>6.25</td>\n",
       "      <td>7.50</td>\n",
       "      <td>N1</td>\n",
       "    </tr>\n",
       "    <tr>\n",
       "      <th>64007283</th>\n",
       "      <td>5.2</td>\n",
       "      <td>6.00</td>\n",
       "      <td>3.6</td>\n",
       "      <td>NaN</td>\n",
       "      <td>NaN</td>\n",
       "      <td>NaN</td>\n",
       "      <td>6.25</td>\n",
       "      <td>5.75</td>\n",
       "      <td>7.75</td>\n",
       "      <td>N1</td>\n",
       "    </tr>\n",
       "    <tr>\n",
       "      <th>64007284</th>\n",
       "      <td>7.2</td>\n",
       "      <td>8.00</td>\n",
       "      <td>7.0</td>\n",
       "      <td>6.25</td>\n",
       "      <td>7.00</td>\n",
       "      <td>8.0</td>\n",
       "      <td>NaN</td>\n",
       "      <td>NaN</td>\n",
       "      <td>NaN</td>\n",
       "      <td>N1</td>\n",
       "    </tr>\n",
       "    <tr>\n",
       "      <th>64007285</th>\n",
       "      <td>5.2</td>\n",
       "      <td>5.25</td>\n",
       "      <td>4.4</td>\n",
       "      <td>NaN</td>\n",
       "      <td>NaN</td>\n",
       "      <td>NaN</td>\n",
       "      <td>4.75</td>\n",
       "      <td>6.50</td>\n",
       "      <td>8.75</td>\n",
       "      <td>N1</td>\n",
       "    </tr>\n",
       "    <tr>\n",
       "      <th>64007286</th>\n",
       "      <td>5.8</td>\n",
       "      <td>8.25</td>\n",
       "      <td>2.8</td>\n",
       "      <td>NaN</td>\n",
       "      <td>NaN</td>\n",
       "      <td>NaN</td>\n",
       "      <td>5.00</td>\n",
       "      <td>7.25</td>\n",
       "      <td>8.25</td>\n",
       "      <td>N1</td>\n",
       "    </tr>\n",
       "  </tbody>\n",
       "</table>\n",
       "<p>1061605 rows × 10 columns</p>\n",
       "</div>"
      ]
     },
     "execution_count": 12,
     "metadata": {},
     "output_type": "execute_result"
    }
   ],
   "execution_count": 12
  },
  {
   "metadata": {
    "ExecuteTime": {
     "end_time": "2025-04-01T17:21:20.785519Z",
     "start_time": "2025-04-01T17:21:20.773487Z"
    }
   },
   "cell_type": "code",
   "source": [
    "mean_values = data['toan'].mean()\n",
    "print(\"Diem trung binh mon toan: \",mean_values)\n"
   ],
   "id": "49dddfc7f75985bf",
   "outputs": [
    {
     "name": "stdout",
     "output_type": "stream",
     "text": [
      "Diem trung binh mon toan:  6.447309281732343\n"
     ]
    }
   ],
   "execution_count": 13
  },
  {
   "metadata": {
    "ExecuteTime": {
     "end_time": "2025-04-01T17:21:22.572706Z",
     "start_time": "2025-04-01T17:21:22.569529Z"
    }
   },
   "cell_type": "code",
   "source": "# data.loc[,:'toan']",
   "id": "5eecad73ab3d53d3",
   "outputs": [],
   "execution_count": 14
  },
  {
   "metadata": {
    "ExecuteTime": {
     "end_time": "2025-04-01T17:23:35.696439Z",
     "start_time": "2025-04-01T17:21:24.384721Z"
    }
   },
   "cell_type": "code",
   "source": [
    "def phan_loai_khoi(row):\n",
    "    row = row.fillna(0)\n",
    "    if row['ma_ngoai_ngu'] != 'N1': return ('Khoi khac',0)\n",
    "    khoi ={\n",
    "        'A': row['toan'] + row['vat_li'] + row['hoa_hoc'],\n",
    "        'A1': row['toan'] + row['vat_li'] + row['ngoai_ngu'],\n",
    "        'B': row['toan'] + row['hoa_hoc'] + row['sinh_hoc'],\n",
    "        'C': row['ngu_van'] + row['lich_su'] + row['dia_li'],\n",
    "        'D': row['toan'] + row['ngu_van'] + row['ngoai_ngu'],\n",
    "        'D7': row['toan'] + row['hoa_hoc'] + row['ngoai_ngu']\n",
    "    }\n",
    "    return max(khoi,key=khoi.get), max(khoi.values())\n",
    "data['khoi'],data['diem_khoi'] = zip(*data.apply(phan_loai_khoi,axis=1))\n"
   ],
   "id": "daffb7ec7b2ce3e1",
   "outputs": [
    {
     "name": "stderr",
     "output_type": "stream",
     "text": [
      "C:\\Users\\MY PC\\AppData\\Local\\Temp\\ipykernel_20824\\2215283324.py:2: FutureWarning: Downcasting object dtype arrays on .fillna, .ffill, .bfill is deprecated and will change in a future version. Call result.infer_objects(copy=False) instead. To opt-in to the future behavior, set `pd.set_option('future.no_silent_downcasting', True)`\n",
      "  row = row.fillna(0)\n"
     ]
    }
   ],
   "execution_count": 15
  },
  {
   "metadata": {
    "ExecuteTime": {
     "end_time": "2025-04-01T17:24:08.948112Z",
     "start_time": "2025-04-01T17:24:08.928863Z"
    }
   },
   "cell_type": "code",
   "source": "data[['khoi','diem_khoi']]",
   "id": "9981e1f306791ab0",
   "outputs": [
    {
     "data": {
      "text/plain": [
       "         khoi  diem_khoi\n",
       "sbd                     \n",
       "1000001     D      23.15\n",
       "1000002     D      24.30\n",
       "1000003     D      25.15\n",
       "1000004     C      21.50\n",
       "1000005     C      26.75\n",
       "...       ...        ...\n",
       "64007282    C      17.50\n",
       "64007283    C      18.00\n",
       "64007284    B      22.20\n",
       "64007285    C      16.50\n",
       "64007286    C      20.50\n",
       "\n",
       "[1061605 rows x 2 columns]"
      ],
      "text/html": [
       "<div>\n",
       "<style scoped>\n",
       "    .dataframe tbody tr th:only-of-type {\n",
       "        vertical-align: middle;\n",
       "    }\n",
       "\n",
       "    .dataframe tbody tr th {\n",
       "        vertical-align: top;\n",
       "    }\n",
       "\n",
       "    .dataframe thead th {\n",
       "        text-align: right;\n",
       "    }\n",
       "</style>\n",
       "<table border=\"1\" class=\"dataframe\">\n",
       "  <thead>\n",
       "    <tr style=\"text-align: right;\">\n",
       "      <th></th>\n",
       "      <th>khoi</th>\n",
       "      <th>diem_khoi</th>\n",
       "    </tr>\n",
       "    <tr>\n",
       "      <th>sbd</th>\n",
       "      <th></th>\n",
       "      <th></th>\n",
       "    </tr>\n",
       "  </thead>\n",
       "  <tbody>\n",
       "    <tr>\n",
       "      <th>1000001</th>\n",
       "      <td>D</td>\n",
       "      <td>23.15</td>\n",
       "    </tr>\n",
       "    <tr>\n",
       "      <th>1000002</th>\n",
       "      <td>D</td>\n",
       "      <td>24.30</td>\n",
       "    </tr>\n",
       "    <tr>\n",
       "      <th>1000003</th>\n",
       "      <td>D</td>\n",
       "      <td>25.15</td>\n",
       "    </tr>\n",
       "    <tr>\n",
       "      <th>1000004</th>\n",
       "      <td>C</td>\n",
       "      <td>21.50</td>\n",
       "    </tr>\n",
       "    <tr>\n",
       "      <th>1000005</th>\n",
       "      <td>C</td>\n",
       "      <td>26.75</td>\n",
       "    </tr>\n",
       "    <tr>\n",
       "      <th>...</th>\n",
       "      <td>...</td>\n",
       "      <td>...</td>\n",
       "    </tr>\n",
       "    <tr>\n",
       "      <th>64007282</th>\n",
       "      <td>C</td>\n",
       "      <td>17.50</td>\n",
       "    </tr>\n",
       "    <tr>\n",
       "      <th>64007283</th>\n",
       "      <td>C</td>\n",
       "      <td>18.00</td>\n",
       "    </tr>\n",
       "    <tr>\n",
       "      <th>64007284</th>\n",
       "      <td>B</td>\n",
       "      <td>22.20</td>\n",
       "    </tr>\n",
       "    <tr>\n",
       "      <th>64007285</th>\n",
       "      <td>C</td>\n",
       "      <td>16.50</td>\n",
       "    </tr>\n",
       "    <tr>\n",
       "      <th>64007286</th>\n",
       "      <td>C</td>\n",
       "      <td>20.50</td>\n",
       "    </tr>\n",
       "  </tbody>\n",
       "</table>\n",
       "<p>1061605 rows × 2 columns</p>\n",
       "</div>"
      ]
     },
     "execution_count": 16,
     "metadata": {},
     "output_type": "execute_result"
    }
   ],
   "execution_count": 16
  },
  {
   "metadata": {
    "ExecuteTime": {
     "end_time": "2025-04-01T17:24:09.089090Z",
     "start_time": "2025-04-01T17:24:09.036935Z"
    }
   },
   "cell_type": "code",
   "source": [
    "khoi_counts = data['khoi'].value_counts()\n",
    "khoi_counts"
   ],
   "id": "5126a0323e654c8d",
   "outputs": [
    {
     "data": {
      "text/plain": [
       "khoi\n",
       "C            487853\n",
       "D            188999\n",
       "Khoi khac    155067\n",
       "A            107297\n",
       "B             53794\n",
       "A1            50420\n",
       "D7            18175\n",
       "Name: count, dtype: int64"
      ]
     },
     "execution_count": 17,
     "metadata": {},
     "output_type": "execute_result"
    }
   ],
   "execution_count": 17
  },
  {
   "metadata": {
    "ExecuteTime": {
     "end_time": "2025-04-01T17:18:34.092225Z",
     "start_time": "2025-04-01T17:18:34.036889Z"
    }
   },
   "cell_type": "code",
   "source": [
    "diem_tb = data.groupby('khoi')['diem_khoi'].mean()\n",
    "diem_tb"
   ],
   "id": "17a4f13ba1076d4d",
   "outputs": [
    {
     "data": {
      "text/plain": [
       "khoi\n",
       "A            23.205416\n",
       "A1           23.653705\n",
       "B            21.815495\n",
       "C            21.467165\n",
       "D            21.959139\n",
       "D7           23.928600\n",
       "Khoi khac     0.000000\n",
       "Name: diem_khoi, dtype: float64"
      ]
     },
     "execution_count": 9,
     "metadata": {},
     "output_type": "execute_result"
    }
   ],
   "execution_count": 9
  },
  {
   "metadata": {
    "ExecuteTime": {
     "end_time": "2025-04-01T13:44:45.528693Z",
     "start_time": "2025-04-01T13:44:45.524953Z"
    }
   },
   "cell_type": "code",
   "source": "",
   "id": "a09a49e5859212f",
   "outputs": [],
   "execution_count": null
  },
  {
   "metadata": {
    "ExecuteTime": {
     "end_time": "2025-04-01T17:24:09.121056Z",
     "start_time": "2025-04-01T17:24:09.115843Z"
    }
   },
   "cell_type": "code",
   "source": [
    "def so_nguoi_liet(data):\n",
    "    count = 0\n",
    "    for i in range(len(data)):\n",
    "        row = pd.to_numeric(data.iloc[i],errors='coerce').fillna(11)\n",
    "        if row.min() <= 1: count = count + 1\n",
    "    return count\n"
   ],
   "id": "e5ad06227fdb6b60",
   "outputs": [],
   "execution_count": 18
  },
  {
   "metadata": {
    "ExecuteTime": {
     "end_time": "2025-04-01T17:27:21.071498Z",
     "start_time": "2025-04-01T17:24:09.165432Z"
    }
   },
   "cell_type": "code",
   "source": "so_nguoi_liet(data)",
   "id": "b3b6824ed4ac787f",
   "outputs": [
    {
     "data": {
      "text/plain": [
       "155333"
      ]
     },
     "execution_count": 19,
     "metadata": {},
     "output_type": "execute_result"
    }
   ],
   "execution_count": 19
  },
  {
   "metadata": {},
   "cell_type": "code",
   "outputs": [],
   "execution_count": null,
   "source": "",
   "id": "5bf3d6316ea25321"
  }
 ],
 "metadata": {
  "kernelspec": {
   "display_name": "Python 3",
   "language": "python",
   "name": "python3"
  },
  "language_info": {
   "codemirror_mode": {
    "name": "ipython",
    "version": 2
   },
   "file_extension": ".py",
   "mimetype": "text/x-python",
   "name": "python",
   "nbconvert_exporter": "python",
   "pygments_lexer": "ipython2",
   "version": "2.7.6"
  }
 },
 "nbformat": 4,
 "nbformat_minor": 5
}
